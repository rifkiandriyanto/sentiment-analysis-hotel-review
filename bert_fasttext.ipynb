{
  "nbformat": 4,
  "nbformat_minor": 0,
  "metadata": {
    "colab": {
      "provenance": []
    },
    "kernelspec": {
      "name": "python3",
      "display_name": "Python 3"
    },
    "language_info": {
      "name": "python"
    }
  },
  "cells": [
    {
      "cell_type": "code",
      "source": [
        "!pip install fasttext"
      ],
      "metadata": {
        "id": "HhW9w--VX-ct"
      },
      "execution_count": null,
      "outputs": []
    },
    {
      "cell_type": "code",
      "source": [
        "import pandas as pd\n",
        "import numpy as np\n",
        "import re\n",
        "import string\n",
        "import nltk\n",
        "from nltk.corpus import stopwords\n",
        "from nltk.tokenize import word_tokenize\n",
        "from nltk.stem import WordNetLemmatizer\n",
        "import torch\n",
        "from torch import nn\n",
        "from transformers import BertModel, BertTokenizer\n",
        "import fasttext\n",
        "from sklearn.model_selection import train_test_split\n",
        "from sklearn.metrics import accuracy_score, confusion_matrix\n",
        "import matplotlib.pyplot as plt  # Import matplotlib for plotting\n",
        "import seaborn as sns  # Import seaborn for heatmap visualization\n",
        "from google.colab import drive\n",
        "\n",
        "# Download necessary NLTK resources\n",
        "nltk.download('punkt')\n",
        "nltk.download('stopwords')\n",
        "nltk.download('wordnet')\n",
        "\n",
        "# Function to preprocess text by removing punctuation, numbers, and stopwords, and applying lemmatization\n",
        "def preprocess_text(text):\n",
        "    text = text.lower()\n",
        "    text = text.translate(str.maketrans('', '', string.punctuation))\n",
        "    text = re.sub(r'\\d+', '', text)\n",
        "    tokens = word_tokenize(text)\n",
        "    stop_words = set(stopwords.words('english'))\n",
        "    lemmatizer = WordNetLemmatizer()\n",
        "    tokens = [lemmatizer.lemmatize(word) for word in tokens if word not in stop_words]\n",
        "    return ' '.join(tokens)\n",
        "\n",
        "# Mount Google Drive to access files\n",
        "drive.mount('/content/drive')\n",
        "\n",
        "# Load and preprocess data\n",
        "data_path = '/content/drive/My Drive/experiment/example_hotel_review.csv'\n",
        "reviews_df = pd.read_csv(data_path)\n",
        "reviews_df['Processed_Reviews'] = reviews_df['Positive_Review'].str.cat(reviews_df['Negative_Review'], sep=\" \").apply(preprocess_text)\n",
        "\n",
        "# Save processed reviews to a text file for FastText training\n",
        "reviews_path = '/content/drive/My Drive/experiment/reviews.txt'\n",
        "reviews_df['Processed_Reviews'].to_csv(reviews_path, index=False, header=False)\n",
        "\n",
        "# Train FastText model\n",
        "ft_model = fasttext.train_unsupervised(reviews_path, model='skipgram')\n",
        "ft_model.save_model('/content/drive/My Drive/experiment/fasttext_model.bin')\n",
        "\n",
        "# Load FastText and BERT models\n",
        "fasttext_model = fasttext.load_model('/content/drive/My Drive/experiment/fasttext_model.bin')\n",
        "bert_model = BertModel.from_pretrained('bert-base-uncased')\n",
        "tokenizer = BertTokenizer.from_pretrained('bert-base-uncased')\n",
        "\n",
        "# Define a sentiment analysis model integrating BERT and FastText\n",
        "class SentimentAnalysisBertModel(nn.Module):\n",
        "    def __init__(self):\n",
        "        super().__init__()\n",
        "        self.bert = bert_model\n",
        "        self.dropout = nn.Dropout(0.1)\n",
        "        self.classifier = nn.Linear(768, 1)  # Assuming binary classification\n",
        "\n",
        "\n",
        "    def forward(self, input_ids, attention_mask):\n",
        "        outputs = self.bert(input_ids=input_ids, attention_mask=attention_mask)\n",
        "        pooled_output = self.dropout(outputs.pooler_output)\n",
        "        return self.classifier(pooled_output)\n",
        "\n",
        "bert_sentiment_model = SentimentAnalysisBertModel()\n",
        "\n",
        "def predict_sentiment(texts):\n",
        "    predictions = []\n",
        "    for text in texts:\n",
        "        inputs = tokenizer(text, return_tensors=\"pt\", max_length=128, truncation=True, padding=\"max_length\")\n",
        "        input_ids = inputs['input_ids']\n",
        "        attention_mask = inputs['attention_mask']\n",
        "        with torch.no_grad():\n",
        "            logits = bert_sentiment_model(input_ids=input_ids, attention_mask=attention_mask)\n",
        "            predictions.append(torch.sigmoid(logits).item())\n",
        "    return [1 if p >= 0.5 else 0 for p in predictions]\n",
        "\n",
        "# Example usage, make sure test_texts is a list of text strings\n",
        "test_texts = reviews_df['Processed_Reviews'].tolist()\n",
        "test_labels = (reviews_df['Reviewer_Score'] >= 5).astype(int).tolist()\n",
        "\n",
        "test_predictions = predict_sentiment(test_texts)\n",
        "accuracy = accuracy_score(test_labels, test_predictions)\n",
        "conf_matrix = confusion_matrix(test_labels, test_predictions)\n",
        "\n",
        "# Visualize the confusion matrix\n",
        "plt.figure(figsize=(8, 6))\n",
        "sns.heatmap(conf_matrix, annot=True, fmt='d', cmap='Blues', xticklabels=['Negative', 'Positive'], yticklabels=['Negative', 'Positive'])\n",
        "plt.xlabel('Predicted Label')\n",
        "plt.ylabel('True Label')\n",
        "plt.title('Confusion Matrix')\n",
        "plt.show()\n",
        "\n",
        "print(\"Accuracy:\", accuracy)\n"
      ],
      "metadata": {
        "colab": {
          "base_uri": "https://localhost:8080/",
          "height": 725
        },
        "id": "MVuRA0EdX-4z",
        "outputId": "b8729949-0db0-4866-ceb3-6dde864fa990"
      },
      "execution_count": 26,
      "outputs": [
        {
          "output_type": "stream",
          "name": "stderr",
          "text": [
            "[nltk_data] Downloading package punkt to /root/nltk_data...\n",
            "[nltk_data]   Package punkt is already up-to-date!\n",
            "[nltk_data] Downloading package stopwords to /root/nltk_data...\n",
            "[nltk_data]   Package stopwords is already up-to-date!\n",
            "[nltk_data] Downloading package wordnet to /root/nltk_data...\n",
            "[nltk_data]   Package wordnet is already up-to-date!\n"
          ]
        },
        {
          "output_type": "stream",
          "name": "stdout",
          "text": [
            "Drive already mounted at /content/drive; to attempt to forcibly remount, call drive.mount(\"/content/drive\", force_remount=True).\n"
          ]
        },
        {
          "output_type": "stream",
          "name": "stderr",
          "text": [
            "Warning : `load_model` does not return WordVectorModel or SupervisedModel any more, but a `FastText` object which is very similar.\n"
          ]
        },
        {
          "output_type": "display_data",
          "data": {
            "text/plain": [
              "<Figure size 800x600 with 2 Axes>"
            ],
            "image/png": "[encoded data removed]"
          },
          "metadata": {}
        },
        {
          "output_type": "stream",
          "name": "stdout",
          "text": [
            "Accuracy: 0.8425925925925926\n"
          ]
        }
      ]
    }
  ]
}