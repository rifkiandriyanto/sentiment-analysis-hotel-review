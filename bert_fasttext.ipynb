{
  "nbformat": 4,
  "nbformat_minor": 0,
  "metadata": {
    "colab": {
      "provenance": []
    },
    "kernelspec": {
      "name": "python3",
      "display_name": "Python 3"
    },
    "language_info": {
      "name": "python"
    }
  },
  "cells": [
    {
      "cell_type": "code",
      "source": [
        "!pip install fasttext"
      ],
      "metadata": {
        "id": "HhW9w--VX-ct",
        "colab": {
          "base_uri": "https://localhost:8080/"
        },
        "outputId": "accc78c0-ed9d-450b-ff18-3d1d9340e684"
      },
      "execution_count": 2,
      "outputs": [
        {
          "output_type": "stream",
          "name": "stdout",
          "text": [
            "Collecting fasttext\n",
            "  Downloading fasttext-0.9.2.tar.gz (68 kB)\n",
            "\u001b[?25l     \u001b[90m━━━━━━━━━━━━━━━━━━━━━━━━━━━━━━━━━━━━━━━━\u001b[0m \u001b[32m0.0/68.8 kB\u001b[0m \u001b[31m?\u001b[0m eta \u001b[36m-:--:--\u001b[0m\r\u001b[2K     \u001b[90m━━━━━━━━━━━━━━━━━━━━━━━━━━━━━━━━━━━━━━━━\u001b[0m \u001b[32m68.8/68.8 kB\u001b[0m \u001b[31m2.2 MB/s\u001b[0m eta \u001b[36m0:00:00\u001b[0m\n",
            "\u001b[?25h  Preparing metadata (setup.py) ... \u001b[?25l\u001b[?25hdone\n",
            "Collecting pybind11>=2.2 (from fasttext)\n",
            "  Using cached pybind11-2.12.0-py3-none-any.whl (234 kB)\n",
            "Requirement already satisfied: setuptools>=0.7.0 in /usr/local/lib/python3.10/dist-packages (from fasttext) (67.7.2)\n",
            "Requirement already satisfied: numpy in /usr/local/lib/python3.10/dist-packages (from fasttext) (1.25.2)\n",
            "Building wheels for collected packages: fasttext\n",
            "  Building wheel for fasttext (setup.py) ... \u001b[?25l\u001b[?25hdone\n",
            "  Created wheel for fasttext: filename=fasttext-0.9.2-cp310-cp310-linux_x86_64.whl size=4227136 sha256=2c9c0f9d8437d9c0cca0ac331325207b10aba631f44897583860846cbc156140\n",
            "  Stored in directory: /root/.cache/pip/wheels/a5/13/75/f811c84a8ab36eedbaef977a6a58a98990e8e0f1967f98f394\n",
            "Successfully built fasttext\n",
            "Installing collected packages: pybind11, fasttext\n",
            "Successfully installed fasttext-0.9.2 pybind11-2.12.0\n"
          ]
        }
      ]
    },
    {
      "cell_type": "code",
      "source": [
        "import torch\n",
        "from torch import nn\n",
        "from transformers import BertModel, BertTokenizer\n",
        "import fasttext\n",
        "import numpy as np\n",
        "import pandas as pd\n",
        "import string\n",
        "import re\n",
        "import nltk\n",
        "from nltk.corpus import stopwords\n",
        "from nltk.tokenize import word_tokenize\n",
        "from nltk.stem import WordNetLemmatizer\n",
        "from sklearn.metrics import accuracy_score, confusion_matrix\n",
        "import matplotlib.pyplot as plt\n",
        "import seaborn as sns\n",
        "from google.colab import drive\n",
        "\n",
        "# Download necessary NLTK resources\n",
        "nltk.download('punkt')\n",
        "nltk.download('stopwords')\n",
        "nltk.download('wordnet')\n",
        "\n",
        "def preprocess_text(text):\n",
        "    \"\"\" Lowercase, remove punctuation, numbers, and stopwords, and apply lemmatization. \"\"\"\n",
        "    text = text.lower()\n",
        "    text = text.translate(str.maketrans('', '', string.punctuation))\n",
        "    text = re.sub(r'\\d+', '', text)\n",
        "    tokens = word_tokenize(text)\n",
        "    stop_words = set(stopwords.words('english'))\n",
        "    lemmatizer = WordNetLemmatizer()\n",
        "    tokens = [lemmatizer.lemmatize(word) for word in tokens if word not in stop_words]\n",
        "    return tokens\n",
        "\n",
        "# Mount Google Drive to access files\n",
        "drive.mount('/content/drive')\n",
        "\n",
        "# Load and preprocess data\n",
        "data_path = '/content/drive/My Drive/experiment/example_hotel_review.csv'\n",
        "reviews_df = pd.read_csv(data_path)\n",
        "reviews_df['Processed_Reviews'] = reviews_df['Positive_Review'].str.cat(reviews_df['Negative_Review'], sep=\" \").apply(preprocess_text)\n",
        "\n",
        "# Save processed reviews to a text file for FastText training\n",
        "reviews_path = '/content/drive/My Drive/experiment/reviews.txt'\n",
        "reviews_df['Processed_Reviews'].to_csv(reviews_path, index=False, header=False)\n",
        "\n",
        "# Train FastText model\n",
        "ft_model = fasttext.train_unsupervised(reviews_path, model='skipgram')\n",
        "ft_model.save_model('/content/drive/My Drive/experiment/fasttext_model.bin')\n",
        "\n",
        "# Load FastText model\n",
        "fasttext_model = fasttext.load_model('/content/drive/My Drive/experiment/fasttext_model.bin')\n",
        "\n",
        "# Load BERT model and tokenizer\n",
        "bert_model = BertModel.from_pretrained('bert-base-uncased')\n",
        "tokenizer = BertTokenizer.from_pretrained('bert-base-uncased')\n",
        "\n",
        "class BertFastTextSentimentAnalysis(nn.Module):\n",
        "    def __init__(self, bert_model, fasttext_model, bert_dim=768, ft_dim=100, device='cpu'):\n",
        "        super().__init__()\n",
        "        self.bert = bert_model\n",
        "        self.fasttext = fasttext_model\n",
        "        self.dropout = nn.Dropout(0.1)\n",
        "        self.classifier = nn.Linear(bert_dim + ft_dim, 1)\n",
        "        self.device = device\n",
        "\n",
        "    def forward(self, input_ids, attention_mask, texts):\n",
        "        bert_outputs = self.bert(input_ids=input_ids, attention_mask=attention_mask)\n",
        "        pooled_output = self.dropout(bert_outputs.pooler_output)\n",
        "\n",
        "        fasttext_embeddings = []\n",
        "        for text in texts:\n",
        "            vectors = [self.fasttext.get_word_vector(token) for token in text]\n",
        "            if vectors:\n",
        "                avg_vector = np.mean(vectors, axis=0)\n",
        "            else:\n",
        "                avg_vector = np.zeros((100,))\n",
        "            fasttext_embeddings.append(avg_vector)\n",
        "\n",
        "        fasttext_embeddings = torch.tensor(fasttext_embeddings, dtype=torch.float32, device=self.device)\n",
        "\n",
        "        combined_features = torch.cat((pooled_output, fasttext_embeddings), dim=1)\n",
        "        logits = self.classifier(combined_features)\n",
        "        return torch.sigmoid(logits)\n",
        "\n",
        "device = 'cuda' if torch.cuda.is_available() else 'cpu'\n",
        "hybrid_model = BertFastTextSentimentAnalysis(bert_model, fasttext_model, device=device)\n",
        "hybrid_model.to(device)\n",
        "\n",
        "def predict_sentiment(model, texts):\n",
        "    processed_texts = [' '.join(tokens) for tokens in texts]  # Convert token lists back to strings for BERT\n",
        "    encoded_inputs = tokenizer(processed_texts, return_tensors=\"pt\", padding=True, truncation=True, max_length=128)\n",
        "    input_ids = encoded_inputs['input_ids']\n",
        "    attention_mask = encoded_inputs['attention_mask']\n",
        "    predictions = []\n",
        "    with torch.no_grad():\n",
        "        logits = model(input_ids.to(device), attention_mask.to(device), texts)  # texts are the original token lists\n",
        "        predictions = (logits.squeeze() >= 0.5).tolist()\n",
        "    return predictions\n",
        "\n",
        "# Example usage\n",
        "test_texts = reviews_df['Processed_Reviews'].tolist()  # Use the list of tokens directly\n",
        "test_labels = predict_sentiment(hybrid_model, test_texts)\n",
        "\n",
        "test_predictions = predict_sentiment(hybrid_model, test_texts)\n",
        "accuracy = accuracy_score(test_labels, test_predictions)\n",
        "conf_matrix = confusion_matrix(test_labels, test_predictions)\n",
        "\n",
        "# Visualize the confusion matrix\n",
        "plt.figure(figsize=(8, 6))\n",
        "sns.heatmap(conf_matrix, annot=True, fmt='d', cmap='Blues', xticklabels=['Negative', 'Positive'], yticklabels=['Negative', 'Positive'])\n",
        "plt.xlabel('Predicted Label')\n",
        "plt.ylabel('True Label')\n",
        "plt.title('Confusion Matrix')\n",
        "plt.show()\n",
        "\n",
        "print(\"Accuracy:\", accuracy)\n"
      ],
      "metadata": {
        "colab": {
          "base_uri": "https://localhost:8080/",
          "height": 725
        },
        "id": "MVuRA0EdX-4z",
        "outputId": "4f79e136-ce92-47ec-d85f-ac2f5a7df94d"
      },
      "execution_count": 7,
      "outputs": [
        {
          "output_type": "stream",
          "name": "stderr",
          "text": [
            "[nltk_data] Downloading package punkt to /root/nltk_data...\n",
            "[nltk_data]   Package punkt is already up-to-date!\n",
            "[nltk_data] Downloading package stopwords to /root/nltk_data...\n",
            "[nltk_data]   Package stopwords is already up-to-date!\n",
            "[nltk_data] Downloading package wordnet to /root/nltk_data...\n",
            "[nltk_data]   Package wordnet is already up-to-date!\n"
          ]
        },
        {
          "output_type": "stream",
          "name": "stdout",
          "text": [
            "Drive already mounted at /content/drive; to attempt to forcibly remount, call drive.mount(\"/content/drive\", force_remount=True).\n"
          ]
        },
        {
          "output_type": "stream",
          "name": "stderr",
          "text": [
            "Warning : `load_model` does not return WordVectorModel or SupervisedModel any more, but a `FastText` object which is very similar.\n"
          ]
        },
        {
          "output_type": "display_data",
          "data": {
            "text/plain": [
              "<Figure size 800x600 with 2 Axes>"
            ],
            "image/png": "[encoded data removed]"
          },
          "metadata": {}
        },
        {
          "output_type": "stream",
          "name": "stdout",
          "text": [
            "Accuracy: 0.8333333333333334\n"
          ]
        }
      ]
    }
  ]
}