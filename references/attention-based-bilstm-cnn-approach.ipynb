{
 "cells": [
  {
   "cell_type": "code",
   "execution_count": 1,
   "id": "3ffb83be",
   "metadata": {
    "_cell_guid": "b1076dfc-b9ad-4769-8c92-a6c4dae69d19",
    "_uuid": "8f2839f25d086af736a60e9eeb907d3b93b6e0e5",
    "execution": {
     "iopub.execute_input": "2024-01-27T13:11:28.699116Z",
     "iopub.status.busy": "2024-01-27T13:11:28.697926Z",
     "iopub.status.idle": "2024-01-27T13:11:29.529734Z",
     "shell.execute_reply": "2024-01-27T13:11:29.528762Z"
    },
    "papermill": {
     "duration": 0.846353,
     "end_time": "2024-01-27T13:11:29.532522",
     "exception": false,
     "start_time": "2024-01-27T13:11:28.686169",
     "status": "completed"
    },
    "tags": []
   },
   "outputs": [
    {
     "name": "stdout",
     "output_type": "stream",
     "text": [
      "/kaggle/input/jigsaw-toxic-comment-classification-challenge/train.csv.zip\n",
      "/kaggle/input/jigsaw-toxic-comment-classification-challenge/sample_submission.csv.zip\n",
      "/kaggle/input/jigsaw-toxic-comment-classification-challenge/test_labels.csv.zip\n",
      "/kaggle/input/jigsaw-toxic-comment-classification-challenge/test.csv.zip\n"
     ]
    }
   ],
   "source": [
    "# This Python 3 environment comes with many helpful analytics libraries installed\n",
    "# It is defined by the kaggle/python Docker image: https://github.com/kaggle/docker-python\n",
    "# For example, here's several helpful packages to load\n",
    "\n",
    "import numpy as np # linear algebra\n",
    "import pandas as pd # data processing, CSV file I/O (e.g. pd.read_csv)\n",
    "\n",
    "# Input data files are available in the read-only \"../input/\" directory\n",
    "# For example, running this (by clicking run or pressing Shift+Enter) will list all files under the input directory\n",
    "\n",
    "import os\n",
    "for dirname, _, filenames in os.walk('/kaggle/input'):\n",
    "    for filename in filenames:\n",
    "        print(os.path.join(dirname, filename))\n",
    "\n",
    "# You can write up to 20GB to the current directory (/kaggle/working/) that gets preserved as output when you create a version using \"Save & Run All\" \n",
    "# You can also write temporary files to /kaggle/temp/, but they won't be saved outside of the current session"
   ]
  },
  {
   "cell_type": "code",
   "execution_count": 2,
   "id": "5d9e6868",
   "metadata": {
    "execution": {
     "iopub.execute_input": "2024-01-27T13:11:29.555643Z",
     "iopub.status.busy": "2024-01-27T13:11:29.554942Z",
     "iopub.status.idle": "2024-01-27T13:11:44.580213Z",
     "shell.execute_reply": "2024-01-27T13:11:44.578987Z"
    },
    "papermill": {
     "duration": 15.039956,
     "end_time": "2024-01-27T13:11:44.582814",
     "exception": false,
     "start_time": "2024-01-27T13:11:29.542858",
     "status": "completed"
    },
    "tags": []
   },
   "outputs": [
    {
     "name": "stderr",
     "output_type": "stream",
     "text": [
      "/opt/conda/lib/python3.10/site-packages/scipy/__init__.py:146: UserWarning: A NumPy version >=1.16.5 and <1.23.0 is required for this version of SciPy (detected version 1.24.3\n",
      "  warnings.warn(f\"A NumPy version >={np_minversion} and <{np_maxversion}\"\n"
     ]
    },
    {
     "name": "stdout",
     "output_type": "stream",
     "text": [
      "[nltk_data] Downloading package stopwords to /usr/share/nltk_data...\n",
      "[nltk_data]   Package stopwords is already up-to-date!\n"
     ]
    }
   ],
   "source": [
    "import matplotlib.pyplot as plt\n",
    "import tensorflow as tf\n",
    "from keras.preprocessing.text import Tokenizer\n",
    "from keras.utils import pad_sequences\n",
    "from sklearn.model_selection import train_test_split\n",
    "from keras.utils import to_categorical\n",
    "from keras.models import Sequential, Model\n",
    "from keras.layers import Dense,Dropout,Input,Embedding,Flatten,TextVectorization,Conv1D,GlobalMaxPooling1D,MaxPooling1D,GlobalAveragePooling1D\n",
    "from keras.initializers import Constant\n",
    "from keras.layers import Dense,LSTM,Bidirectional,Attention,Concatenate,GRU,BatchNormalization\n",
    "import nltk\n",
    "from nltk.corpus import stopwords\n",
    "import re\n",
    "nltk.download('stopwords')\n",
    "import pickle\n",
    "import pandas as pd\n",
    "import jieba"
   ]
  },
  {
   "cell_type": "code",
   "execution_count": 3,
   "id": "1d7cffa0",
   "metadata": {
    "execution": {
     "iopub.execute_input": "2024-01-27T13:11:44.605419Z",
     "iopub.status.busy": "2024-01-27T13:11:44.604697Z",
     "iopub.status.idle": "2024-01-27T13:11:45.690629Z",
     "shell.execute_reply": "2024-01-27T13:11:45.689210Z"
    },
    "papermill": {
     "duration": 1.100326,
     "end_time": "2024-01-27T13:11:45.693442",
     "exception": false,
     "start_time": "2024-01-27T13:11:44.593116",
     "status": "completed"
    },
    "tags": []
   },
   "outputs": [],
   "source": [
    "!mkdir /kaggle/working/data"
   ]
  },
  {
   "cell_type": "code",
   "execution_count": 4,
   "id": "8c8bdf6b",
   "metadata": {
    "execution": {
     "iopub.execute_input": "2024-01-27T13:11:45.716678Z",
     "iopub.status.busy": "2024-01-27T13:11:45.715581Z",
     "iopub.status.idle": "2024-01-27T13:11:51.807788Z",
     "shell.execute_reply": "2024-01-27T13:11:51.805838Z"
    },
    "papermill": {
     "duration": 6.107363,
     "end_time": "2024-01-27T13:11:51.811278",
     "exception": false,
     "start_time": "2024-01-27T13:11:45.703915",
     "status": "completed"
    },
    "tags": []
   },
   "outputs": [
    {
     "name": "stdout",
     "output_type": "stream",
     "text": [
      "Archive:  /kaggle/input/jigsaw-toxic-comment-classification-challenge/train.csv.zip\r\n",
      "  inflating: /kaggle/working/data/train.csv  \r\n",
      "Archive:  /kaggle/input/jigsaw-toxic-comment-classification-challenge/sample_submission.csv.zip\r\n",
      "  inflating: /kaggle/working/data/sample_submission.csv  \r\n",
      "Archive:  /kaggle/input/jigsaw-toxic-comment-classification-challenge/test_labels.csv.zip\r\n",
      "  inflating: /kaggle/working/data/test_labels.csv  \r\n",
      "Archive:  /kaggle/input/jigsaw-toxic-comment-classification-challenge/test.csv.zip\r\n",
      "  inflating: /kaggle/working/data/test.csv  \r\n"
     ]
    }
   ],
   "source": [
    "!unzip /kaggle/input/jigsaw-toxic-comment-classification-challenge/train.csv.zip -d /kaggle/working/data\n",
    "!unzip /kaggle/input/jigsaw-toxic-comment-classification-challenge/sample_submission.csv.zip -d /kaggle/working/data\n",
    "!unzip /kaggle/input/jigsaw-toxic-comment-classification-challenge/test_labels.csv.zip -d /kaggle/working/data\n",
    "!unzip /kaggle/input/jigsaw-toxic-comment-classification-challenge/test.csv.zip -d /kaggle/working/data"
   ]
  },
  {
   "cell_type": "code",
   "execution_count": 5,
   "id": "ac7f68a1",
   "metadata": {
    "execution": {
     "iopub.execute_input": "2024-01-27T13:11:51.834120Z",
     "iopub.status.busy": "2024-01-27T13:11:51.833655Z",
     "iopub.status.idle": "2024-01-27T13:11:52.949751Z",
     "shell.execute_reply": "2024-01-27T13:11:52.948682Z"
    },
    "papermill": {
     "duration": 1.130314,
     "end_time": "2024-01-27T13:11:52.952115",
     "exception": false,
     "start_time": "2024-01-27T13:11:51.821801",
     "status": "completed"
    },
    "tags": []
   },
   "outputs": [
    {
     "data": {
      "text/html": [
       "<div>\n",
       "<style scoped>\n",
       "    .dataframe tbody tr th:only-of-type {\n",
       "        vertical-align: middle;\n",
       "    }\n",
       "\n",
       "    .dataframe tbody tr th {\n",
       "        vertical-align: top;\n",
       "    }\n",
       "\n",
       "    .dataframe thead th {\n",
       "        text-align: right;\n",
       "    }\n",
       "</style>\n",
       "<table border=\"1\" class=\"dataframe\">\n",
       "  <thead>\n",
       "    <tr style=\"text-align: right;\">\n",
       "      <th></th>\n",
       "      <th>id</th>\n",
       "      <th>comment_text</th>\n",
       "      <th>toxic</th>\n",
       "      <th>severe_toxic</th>\n",
       "      <th>obscene</th>\n",
       "      <th>threat</th>\n",
       "      <th>insult</th>\n",
       "      <th>identity_hate</th>\n",
       "    </tr>\n",
       "  </thead>\n",
       "  <tbody>\n",
       "    <tr>\n",
       "      <th>0</th>\n",
       "      <td>0000997932d777bf</td>\n",
       "      <td>Explanation\\nWhy the edits made under my usern...</td>\n",
       "      <td>0</td>\n",
       "      <td>0</td>\n",
       "      <td>0</td>\n",
       "      <td>0</td>\n",
       "      <td>0</td>\n",
       "      <td>0</td>\n",
       "    </tr>\n",
       "    <tr>\n",
       "      <th>1</th>\n",
       "      <td>000103f0d9cfb60f</td>\n",
       "      <td>D'aww! He matches this background colour I'm s...</td>\n",
       "      <td>0</td>\n",
       "      <td>0</td>\n",
       "      <td>0</td>\n",
       "      <td>0</td>\n",
       "      <td>0</td>\n",
       "      <td>0</td>\n",
       "    </tr>\n",
       "    <tr>\n",
       "      <th>2</th>\n",
       "      <td>000113f07ec002fd</td>\n",
       "      <td>Hey man, I'm really not trying to edit war. It...</td>\n",
       "      <td>0</td>\n",
       "      <td>0</td>\n",
       "      <td>0</td>\n",
       "      <td>0</td>\n",
       "      <td>0</td>\n",
       "      <td>0</td>\n",
       "    </tr>\n",
       "    <tr>\n",
       "      <th>3</th>\n",
       "      <td>0001b41b1c6bb37e</td>\n",
       "      <td>\"\\nMore\\nI can't make any real suggestions on ...</td>\n",
       "      <td>0</td>\n",
       "      <td>0</td>\n",
       "      <td>0</td>\n",
       "      <td>0</td>\n",
       "      <td>0</td>\n",
       "      <td>0</td>\n",
       "    </tr>\n",
       "    <tr>\n",
       "      <th>4</th>\n",
       "      <td>0001d958c54c6e35</td>\n",
       "      <td>You, sir, are my hero. Any chance you remember...</td>\n",
       "      <td>0</td>\n",
       "      <td>0</td>\n",
       "      <td>0</td>\n",
       "      <td>0</td>\n",
       "      <td>0</td>\n",
       "      <td>0</td>\n",
       "    </tr>\n",
       "  </tbody>\n",
       "</table>\n",
       "</div>"
      ],
      "text/plain": [
       "                 id                                       comment_text  toxic  \\\n",
       "0  0000997932d777bf  Explanation\\nWhy the edits made under my usern...      0   \n",
       "1  000103f0d9cfb60f  D'aww! He matches this background colour I'm s...      0   \n",
       "2  000113f07ec002fd  Hey man, I'm really not trying to edit war. It...      0   \n",
       "3  0001b41b1c6bb37e  \"\\nMore\\nI can't make any real suggestions on ...      0   \n",
       "4  0001d958c54c6e35  You, sir, are my hero. Any chance you remember...      0   \n",
       "\n",
       "   severe_toxic  obscene  threat  insult  identity_hate  \n",
       "0             0        0       0       0              0  \n",
       "1             0        0       0       0              0  \n",
       "2             0        0       0       0              0  \n",
       "3             0        0       0       0              0  \n",
       "4             0        0       0       0              0  "
      ]
     },
     "execution_count": 5,
     "metadata": {},
     "output_type": "execute_result"
    }
   ],
   "source": [
    "data_train = pd.read_csv('/kaggle/working/data/train.csv')\n",
    "data_train.head()"
   ]
  },
  {
   "cell_type": "code",
   "execution_count": 6,
   "id": "cd122db4",
   "metadata": {
    "execution": {
     "iopub.execute_input": "2024-01-27T13:11:52.975587Z",
     "iopub.status.busy": "2024-01-27T13:11:52.974873Z",
     "iopub.status.idle": "2024-01-27T13:11:53.000994Z",
     "shell.execute_reply": "2024-01-27T13:11:52.999915Z"
    },
    "papermill": {
     "duration": 0.04036,
     "end_time": "2024-01-27T13:11:53.003460",
     "exception": false,
     "start_time": "2024-01-27T13:11:52.963100",
     "status": "completed"
    },
    "tags": []
   },
   "outputs": [
    {
     "name": "stdout",
     "output_type": "stream",
     "text": [
      "toxic\n",
      "0    144277\n",
      "1     15294\n",
      "Name: count, dtype: int64\n",
      "--------------------------------------------------\n",
      "severe_toxic\n",
      "0    157976\n",
      "1      1595\n",
      "Name: count, dtype: int64\n",
      "--------------------------------------------------\n",
      "obscene\n",
      "0    151122\n",
      "1      8449\n",
      "Name: count, dtype: int64\n",
      "--------------------------------------------------\n",
      "threat\n",
      "0    159093\n",
      "1       478\n",
      "Name: count, dtype: int64\n",
      "--------------------------------------------------\n",
      "insult\n",
      "0    151694\n",
      "1      7877\n",
      "Name: count, dtype: int64\n",
      "--------------------------------------------------\n",
      "identity_hate\n",
      "0    158166\n",
      "1      1405\n",
      "Name: count, dtype: int64\n",
      "--------------------------------------------------\n"
     ]
    }
   ],
   "source": [
    "for column in data_train.columns:\n",
    "    if column != 'comment_text' and column != 'id' :\n",
    "        print(data_train[column].value_counts())\n",
    "        print('-' * 50)"
   ]
  },
  {
   "cell_type": "code",
   "execution_count": 7,
   "id": "da753c70",
   "metadata": {
    "execution": {
     "iopub.execute_input": "2024-01-27T13:11:53.026663Z",
     "iopub.status.busy": "2024-01-27T13:11:53.025874Z",
     "iopub.status.idle": "2024-01-27T13:11:53.043081Z",
     "shell.execute_reply": "2024-01-27T13:11:53.041858Z"
    },
    "papermill": {
     "duration": 0.031104,
     "end_time": "2024-01-27T13:11:53.045171",
     "exception": false,
     "start_time": "2024-01-27T13:11:53.014067",
     "status": "completed"
    },
    "tags": []
   },
   "outputs": [
    {
     "data": {
      "text/plain": [
       "array([[0, 0, 0, 0, 0, 0],\n",
       "       [0, 0, 0, 0, 0, 0],\n",
       "       [0, 0, 0, 0, 0, 0],\n",
       "       ...,\n",
       "       [0, 0, 0, 0, 0, 0],\n",
       "       [0, 0, 0, 0, 0, 0],\n",
       "       [0, 0, 0, 0, 0, 0]])"
      ]
     },
     "execution_count": 7,
     "metadata": {},
     "output_type": "execute_result"
    }
   ],
   "source": [
    "list_classes = [\"toxic\", \"severe_toxic\", \"obscene\", \"threat\", \"insult\", \"identity_hate\"]\n",
    "y_train = data_train[list_classes].values\n",
    "y_train"
   ]
  },
  {
   "cell_type": "code",
   "execution_count": 8,
   "id": "17a55d65",
   "metadata": {
    "execution": {
     "iopub.execute_input": "2024-01-27T13:11:53.070304Z",
     "iopub.status.busy": "2024-01-27T13:11:53.069439Z",
     "iopub.status.idle": "2024-01-27T13:11:54.035397Z",
     "shell.execute_reply": "2024-01-27T13:11:54.034262Z"
    },
    "papermill": {
     "duration": 0.980857,
     "end_time": "2024-01-27T13:11:54.037898",
     "exception": false,
     "start_time": "2024-01-27T13:11:53.057041",
     "status": "completed"
    },
    "tags": []
   },
   "outputs": [
    {
     "data": {
      "text/html": [
       "<div>\n",
       "<style scoped>\n",
       "    .dataframe tbody tr th:only-of-type {\n",
       "        vertical-align: middle;\n",
       "    }\n",
       "\n",
       "    .dataframe tbody tr th {\n",
       "        vertical-align: top;\n",
       "    }\n",
       "\n",
       "    .dataframe thead th {\n",
       "        text-align: right;\n",
       "    }\n",
       "</style>\n",
       "<table border=\"1\" class=\"dataframe\">\n",
       "  <thead>\n",
       "    <tr style=\"text-align: right;\">\n",
       "      <th></th>\n",
       "      <th>id</th>\n",
       "      <th>comment_text</th>\n",
       "    </tr>\n",
       "  </thead>\n",
       "  <tbody>\n",
       "    <tr>\n",
       "      <th>0</th>\n",
       "      <td>00001cee341fdb12</td>\n",
       "      <td>Yo bitch Ja Rule is more succesful then you'll...</td>\n",
       "    </tr>\n",
       "    <tr>\n",
       "      <th>1</th>\n",
       "      <td>0000247867823ef7</td>\n",
       "      <td>== From RfC == \\n\\n The title is fine as it is...</td>\n",
       "    </tr>\n",
       "    <tr>\n",
       "      <th>2</th>\n",
       "      <td>00013b17ad220c46</td>\n",
       "      <td>\" \\n\\n == Sources == \\n\\n * Zawe Ashton on Lap...</td>\n",
       "    </tr>\n",
       "    <tr>\n",
       "      <th>3</th>\n",
       "      <td>00017563c3f7919a</td>\n",
       "      <td>:If you have a look back at the source, the in...</td>\n",
       "    </tr>\n",
       "    <tr>\n",
       "      <th>4</th>\n",
       "      <td>00017695ad8997eb</td>\n",
       "      <td>I don't anonymously edit articles at all.</td>\n",
       "    </tr>\n",
       "  </tbody>\n",
       "</table>\n",
       "</div>"
      ],
      "text/plain": [
       "                 id                                       comment_text\n",
       "0  00001cee341fdb12  Yo bitch Ja Rule is more succesful then you'll...\n",
       "1  0000247867823ef7  == From RfC == \\n\\n The title is fine as it is...\n",
       "2  00013b17ad220c46  \" \\n\\n == Sources == \\n\\n * Zawe Ashton on Lap...\n",
       "3  00017563c3f7919a  :If you have a look back at the source, the in...\n",
       "4  00017695ad8997eb          I don't anonymously edit articles at all."
      ]
     },
     "execution_count": 8,
     "metadata": {},
     "output_type": "execute_result"
    }
   ],
   "source": [
    "data_test = pd.read_csv('/kaggle/working/data/test.csv')\n",
    "data_test.head()"
   ]
  },
  {
   "cell_type": "code",
   "execution_count": 9,
   "id": "f590122c",
   "metadata": {
    "execution": {
     "iopub.execute_input": "2024-01-27T13:11:54.062386Z",
     "iopub.status.busy": "2024-01-27T13:11:54.062002Z",
     "iopub.status.idle": "2024-01-27T13:11:59.854186Z",
     "shell.execute_reply": "2024-01-27T13:11:59.853032Z"
    },
    "papermill": {
     "duration": 5.807601,
     "end_time": "2024-01-27T13:11:59.856812",
     "exception": false,
     "start_time": "2024-01-27T13:11:54.049211",
     "status": "completed"
    },
    "tags": []
   },
   "outputs": [],
   "source": [
    "# lowercase and remove extraspace\n",
    "data_train[\"comment_text\"] = data_train[\"comment_text\"].str.lower()\n",
    "data_train[\"comment_text\"] = data_train[\"comment_text\"].str.replace(\"\\xa0\", \" \", regex=False).str.split().str.join(\" \")\n",
    "data_test[\"comment_text\"] = data_test[\"comment_text\"].str.lower()\n",
    "data_test[\"comment_text\"] = data_test[\"comment_text\"].str.replace(\"\\xa0\", \" \", regex=False).str.split().str.join(\" \")"
   ]
  },
  {
   "cell_type": "code",
   "execution_count": 10,
   "id": "ac85f6d5",
   "metadata": {
    "execution": {
     "iopub.execute_input": "2024-01-27T13:11:59.880764Z",
     "iopub.status.busy": "2024-01-27T13:11:59.880307Z",
     "iopub.status.idle": "2024-01-27T13:11:59.887170Z",
     "shell.execute_reply": "2024-01-27T13:11:59.886138Z"
    },
    "papermill": {
     "duration": 0.021496,
     "end_time": "2024-01-27T13:11:59.889418",
     "exception": false,
     "start_time": "2024-01-27T13:11:59.867922",
     "status": "completed"
    },
    "tags": []
   },
   "outputs": [
    {
     "data": {
      "text/plain": [
       "\"d'aww! he matches this background colour i'm seemingly stuck with. thanks. (talk) 21:51, january 11, 2016 (utc)\""
      ]
     },
     "execution_count": 10,
     "metadata": {},
     "output_type": "execute_result"
    }
   ],
   "source": [
    "data_train['comment_text'][1]"
   ]
  },
  {
   "cell_type": "code",
   "execution_count": 11,
   "id": "ca94ec7c",
   "metadata": {
    "execution": {
     "iopub.execute_input": "2024-01-27T13:11:59.913508Z",
     "iopub.status.busy": "2024-01-27T13:11:59.913138Z",
     "iopub.status.idle": "2024-01-27T13:11:59.918098Z",
     "shell.execute_reply": "2024-01-27T13:11:59.917090Z"
    },
    "papermill": {
     "duration": 0.019322,
     "end_time": "2024-01-27T13:11:59.920188",
     "exception": false,
     "start_time": "2024-01-27T13:11:59.900866",
     "status": "completed"
    },
    "tags": []
   },
   "outputs": [],
   "source": [
    "x_train=data_train['comment_text']\n",
    "x_test=data_test['comment_text']"
   ]
  },
  {
   "cell_type": "code",
   "execution_count": 12,
   "id": "a1144456",
   "metadata": {
    "execution": {
     "iopub.execute_input": "2024-01-27T13:11:59.944588Z",
     "iopub.status.busy": "2024-01-27T13:11:59.943878Z",
     "iopub.status.idle": "2024-01-27T13:12:00.134878Z",
     "shell.execute_reply": "2024-01-27T13:12:00.133797Z"
    },
    "papermill": {
     "duration": 0.206377,
     "end_time": "2024-01-27T13:12:00.137575",
     "exception": false,
     "start_time": "2024-01-27T13:11:59.931198",
     "status": "completed"
    },
    "tags": []
   },
   "outputs": [
    {
     "data": {
      "text/html": [
       "<div>\n",
       "<style scoped>\n",
       "    .dataframe tbody tr th:only-of-type {\n",
       "        vertical-align: middle;\n",
       "    }\n",
       "\n",
       "    .dataframe tbody tr th {\n",
       "        vertical-align: top;\n",
       "    }\n",
       "\n",
       "    .dataframe thead th {\n",
       "        text-align: right;\n",
       "    }\n",
       "</style>\n",
       "<table border=\"1\" class=\"dataframe\">\n",
       "  <thead>\n",
       "    <tr style=\"text-align: right;\">\n",
       "      <th></th>\n",
       "      <th>id</th>\n",
       "      <th>toxic</th>\n",
       "      <th>severe_toxic</th>\n",
       "      <th>obscene</th>\n",
       "      <th>threat</th>\n",
       "      <th>insult</th>\n",
       "      <th>identity_hate</th>\n",
       "    </tr>\n",
       "  </thead>\n",
       "  <tbody>\n",
       "    <tr>\n",
       "      <th>0</th>\n",
       "      <td>00001cee341fdb12</td>\n",
       "      <td>-1</td>\n",
       "      <td>-1</td>\n",
       "      <td>-1</td>\n",
       "      <td>-1</td>\n",
       "      <td>-1</td>\n",
       "      <td>-1</td>\n",
       "    </tr>\n",
       "    <tr>\n",
       "      <th>1</th>\n",
       "      <td>0000247867823ef7</td>\n",
       "      <td>-1</td>\n",
       "      <td>-1</td>\n",
       "      <td>-1</td>\n",
       "      <td>-1</td>\n",
       "      <td>-1</td>\n",
       "      <td>-1</td>\n",
       "    </tr>\n",
       "    <tr>\n",
       "      <th>2</th>\n",
       "      <td>00013b17ad220c46</td>\n",
       "      <td>-1</td>\n",
       "      <td>-1</td>\n",
       "      <td>-1</td>\n",
       "      <td>-1</td>\n",
       "      <td>-1</td>\n",
       "      <td>-1</td>\n",
       "    </tr>\n",
       "    <tr>\n",
       "      <th>3</th>\n",
       "      <td>00017563c3f7919a</td>\n",
       "      <td>-1</td>\n",
       "      <td>-1</td>\n",
       "      <td>-1</td>\n",
       "      <td>-1</td>\n",
       "      <td>-1</td>\n",
       "      <td>-1</td>\n",
       "    </tr>\n",
       "    <tr>\n",
       "      <th>4</th>\n",
       "      <td>00017695ad8997eb</td>\n",
       "      <td>-1</td>\n",
       "      <td>-1</td>\n",
       "      <td>-1</td>\n",
       "      <td>-1</td>\n",
       "      <td>-1</td>\n",
       "      <td>-1</td>\n",
       "    </tr>\n",
       "    <tr>\n",
       "      <th>...</th>\n",
       "      <td>...</td>\n",
       "      <td>...</td>\n",
       "      <td>...</td>\n",
       "      <td>...</td>\n",
       "      <td>...</td>\n",
       "      <td>...</td>\n",
       "      <td>...</td>\n",
       "    </tr>\n",
       "    <tr>\n",
       "      <th>153159</th>\n",
       "      <td>fffcd0960ee309b5</td>\n",
       "      <td>-1</td>\n",
       "      <td>-1</td>\n",
       "      <td>-1</td>\n",
       "      <td>-1</td>\n",
       "      <td>-1</td>\n",
       "      <td>-1</td>\n",
       "    </tr>\n",
       "    <tr>\n",
       "      <th>153160</th>\n",
       "      <td>fffd7a9a6eb32c16</td>\n",
       "      <td>-1</td>\n",
       "      <td>-1</td>\n",
       "      <td>-1</td>\n",
       "      <td>-1</td>\n",
       "      <td>-1</td>\n",
       "      <td>-1</td>\n",
       "    </tr>\n",
       "    <tr>\n",
       "      <th>153161</th>\n",
       "      <td>fffda9e8d6fafa9e</td>\n",
       "      <td>-1</td>\n",
       "      <td>-1</td>\n",
       "      <td>-1</td>\n",
       "      <td>-1</td>\n",
       "      <td>-1</td>\n",
       "      <td>-1</td>\n",
       "    </tr>\n",
       "    <tr>\n",
       "      <th>153162</th>\n",
       "      <td>fffe8f1340a79fc2</td>\n",
       "      <td>-1</td>\n",
       "      <td>-1</td>\n",
       "      <td>-1</td>\n",
       "      <td>-1</td>\n",
       "      <td>-1</td>\n",
       "      <td>-1</td>\n",
       "    </tr>\n",
       "    <tr>\n",
       "      <th>153163</th>\n",
       "      <td>ffffce3fb183ee80</td>\n",
       "      <td>-1</td>\n",
       "      <td>-1</td>\n",
       "      <td>-1</td>\n",
       "      <td>-1</td>\n",
       "      <td>-1</td>\n",
       "      <td>-1</td>\n",
       "    </tr>\n",
       "  </tbody>\n",
       "</table>\n",
       "<p>153164 rows × 7 columns</p>\n",
       "</div>"
      ],
      "text/plain": [
       "                      id  toxic  severe_toxic  obscene  threat  insult  \\\n",
       "0       00001cee341fdb12     -1            -1       -1      -1      -1   \n",
       "1       0000247867823ef7     -1            -1       -1      -1      -1   \n",
       "2       00013b17ad220c46     -1            -1       -1      -1      -1   \n",
       "3       00017563c3f7919a     -1            -1       -1      -1      -1   \n",
       "4       00017695ad8997eb     -1            -1       -1      -1      -1   \n",
       "...                  ...    ...           ...      ...     ...     ...   \n",
       "153159  fffcd0960ee309b5     -1            -1       -1      -1      -1   \n",
       "153160  fffd7a9a6eb32c16     -1            -1       -1      -1      -1   \n",
       "153161  fffda9e8d6fafa9e     -1            -1       -1      -1      -1   \n",
       "153162  fffe8f1340a79fc2     -1            -1       -1      -1      -1   \n",
       "153163  ffffce3fb183ee80     -1            -1       -1      -1      -1   \n",
       "\n",
       "        identity_hate  \n",
       "0                  -1  \n",
       "1                  -1  \n",
       "2                  -1  \n",
       "3                  -1  \n",
       "4                  -1  \n",
       "...               ...  \n",
       "153159             -1  \n",
       "153160             -1  \n",
       "153161             -1  \n",
       "153162             -1  \n",
       "153163             -1  \n",
       "\n",
       "[153164 rows x 7 columns]"
      ]
     },
     "execution_count": 12,
     "metadata": {},
     "output_type": "execute_result"
    }
   ],
   "source": [
    "label_test=pd.read_csv('/kaggle/working/data/test_labels.csv')\n",
    "label_test"
   ]
  },
  {
   "cell_type": "code",
   "execution_count": 13,
   "id": "aff8eef4",
   "metadata": {
    "execution": {
     "iopub.execute_input": "2024-01-27T13:12:00.163544Z",
     "iopub.status.busy": "2024-01-27T13:12:00.162645Z",
     "iopub.status.idle": "2024-01-27T13:12:00.172137Z",
     "shell.execute_reply": "2024-01-27T13:12:00.171068Z"
    },
    "papermill": {
     "duration": 0.024872,
     "end_time": "2024-01-27T13:12:00.174619",
     "exception": false,
     "start_time": "2024-01-27T13:12:00.149747",
     "status": "completed"
    },
    "tags": []
   },
   "outputs": [
    {
     "data": {
      "text/plain": [
       "array([[-1, -1, -1, -1, -1, -1],\n",
       "       [-1, -1, -1, -1, -1, -1],\n",
       "       [-1, -1, -1, -1, -1, -1],\n",
       "       ...,\n",
       "       [-1, -1, -1, -1, -1, -1],\n",
       "       [-1, -1, -1, -1, -1, -1],\n",
       "       [-1, -1, -1, -1, -1, -1]])"
      ]
     },
     "execution_count": 13,
     "metadata": {},
     "output_type": "execute_result"
    }
   ],
   "source": [
    "y_test = label_test[list_classes].values\n",
    "y_test"
   ]
  },
  {
   "cell_type": "code",
   "execution_count": 14,
   "id": "d7fa84f4",
   "metadata": {
    "execution": {
     "iopub.execute_input": "2024-01-27T13:12:00.202421Z",
     "iopub.status.busy": "2024-01-27T13:12:00.201636Z",
     "iopub.status.idle": "2024-01-27T13:12:00.208753Z",
     "shell.execute_reply": "2024-01-27T13:12:00.207702Z"
    },
    "papermill": {
     "duration": 0.022964,
     "end_time": "2024-01-27T13:12:00.211114",
     "exception": false,
     "start_time": "2024-01-27T13:12:00.188150",
     "status": "completed"
    },
    "tags": []
   },
   "outputs": [
    {
     "data": {
      "text/plain": [
       "array([[0, 0, 0, 0, 0, 0],\n",
       "       [0, 0, 0, 0, 0, 0],\n",
       "       [0, 0, 0, 0, 0, 0],\n",
       "       ...,\n",
       "       [0, 0, 0, 0, 0, 0],\n",
       "       [0, 0, 0, 0, 0, 0],\n",
       "       [0, 0, 0, 0, 0, 0]])"
      ]
     },
     "execution_count": 14,
     "metadata": {},
     "output_type": "execute_result"
    }
   ],
   "source": [
    "y_train"
   ]
  },
  {
   "cell_type": "code",
   "execution_count": 15,
   "id": "1cb0e925",
   "metadata": {
    "execution": {
     "iopub.execute_input": "2024-01-27T13:12:00.237589Z",
     "iopub.status.busy": "2024-01-27T13:12:00.236643Z",
     "iopub.status.idle": "2024-01-27T13:12:00.476913Z",
     "shell.execute_reply": "2024-01-27T13:12:00.475761Z"
    },
    "papermill": {
     "duration": 0.256226,
     "end_time": "2024-01-27T13:12:00.479345",
     "exception": false,
     "start_time": "2024-01-27T13:12:00.223119",
     "status": "completed"
    },
    "tags": []
   },
   "outputs": [],
   "source": [
    "# Remove common English stop words\n",
    "def clean(text):\n",
    "  stop_words = set(stopwords.words('english'))\n",
    "  tokens = [word for word in text.split() if word not in stop_words]\n",
    "  text = ' '.join(tokens)\n",
    "  return text"
   ]
  },
  {
   "cell_type": "code",
   "execution_count": 16,
   "id": "d907828b",
   "metadata": {
    "execution": {
     "iopub.execute_input": "2024-01-27T13:12:00.507258Z",
     "iopub.status.busy": "2024-01-27T13:12:00.506308Z",
     "iopub.status.idle": "2024-01-27T13:12:52.281924Z",
     "shell.execute_reply": "2024-01-27T13:12:52.281007Z"
    },
    "papermill": {
     "duration": 51.792221,
     "end_time": "2024-01-27T13:12:52.284370",
     "exception": false,
     "start_time": "2024-01-27T13:12:00.492149",
     "status": "completed"
    },
    "tags": []
   },
   "outputs": [],
   "source": [
    "x_train_cleaned = x_train.apply(clean)\n",
    "x_test_cleaned = x_test.apply(clean)"
   ]
  },
  {
   "cell_type": "code",
   "execution_count": 17,
   "id": "9886a414",
   "metadata": {
    "execution": {
     "iopub.execute_input": "2024-01-27T13:12:52.309937Z",
     "iopub.status.busy": "2024-01-27T13:12:52.309565Z",
     "iopub.status.idle": "2024-01-27T13:13:15.485352Z",
     "shell.execute_reply": "2024-01-27T13:13:15.484236Z"
    },
    "papermill": {
     "duration": 23.19129,
     "end_time": "2024-01-27T13:13:15.488048",
     "exception": false,
     "start_time": "2024-01-27T13:12:52.296758",
     "status": "completed"
    },
    "tags": []
   },
   "outputs": [],
   "source": [
    "# Tokenize the text data\n",
    "tokenizer = Tokenizer()\n",
    "tokenizer.fit_on_texts(x_train_cleaned)\n",
    "X_train_sequences = tokenizer.texts_to_sequences(x_train_cleaned)\n",
    "X_test_sequences = tokenizer.texts_to_sequences(x_test_cleaned)"
   ]
  },
  {
   "cell_type": "code",
   "execution_count": 18,
   "id": "f3209400",
   "metadata": {
    "execution": {
     "iopub.execute_input": "2024-01-27T13:13:15.513750Z",
     "iopub.status.busy": "2024-01-27T13:13:15.513388Z",
     "iopub.status.idle": "2024-01-27T13:13:15.519206Z",
     "shell.execute_reply": "2024-01-27T13:13:15.518327Z"
    },
    "papermill": {
     "duration": 0.021065,
     "end_time": "2024-01-27T13:13:15.521490",
     "exception": false,
     "start_time": "2024-01-27T13:13:15.500425",
     "status": "completed"
    },
    "tags": []
   },
   "outputs": [
    {
     "name": "stdout",
     "output_type": "stream",
     "text": [
      "209627\n"
     ]
    }
   ],
   "source": [
    "word_index = tokenizer.word_index\n",
    "total_words = len(word_index)\n",
    "print(total_words) #same as length of vocabulary"
   ]
  },
  {
   "cell_type": "code",
   "execution_count": 19,
   "id": "a6096333",
   "metadata": {
    "execution": {
     "iopub.execute_input": "2024-01-27T13:13:15.547025Z",
     "iopub.status.busy": "2024-01-27T13:13:15.546207Z",
     "iopub.status.idle": "2024-01-27T13:13:15.550932Z",
     "shell.execute_reply": "2024-01-27T13:13:15.550051Z"
    },
    "papermill": {
     "duration": 0.019613,
     "end_time": "2024-01-27T13:13:15.552922",
     "exception": false,
     "start_time": "2024-01-27T13:13:15.533309",
     "status": "completed"
    },
    "tags": []
   },
   "outputs": [],
   "source": [
    "emb_len=len(tokenizer.index_word)+1"
   ]
  },
  {
   "cell_type": "code",
   "execution_count": 20,
   "id": "0c60931b",
   "metadata": {
    "execution": {
     "iopub.execute_input": "2024-01-27T13:13:15.579000Z",
     "iopub.status.busy": "2024-01-27T13:13:15.578181Z",
     "iopub.status.idle": "2024-01-27T13:13:15.604900Z",
     "shell.execute_reply": "2024-01-27T13:13:15.603786Z"
    },
    "papermill": {
     "duration": 0.042513,
     "end_time": "2024-01-27T13:13:15.607130",
     "exception": false,
     "start_time": "2024-01-27T13:13:15.564617",
     "status": "completed"
    },
    "tags": []
   },
   "outputs": [
    {
     "name": "stdout",
     "output_type": "stream",
     "text": [
      "1349\n"
     ]
    }
   ],
   "source": [
    "#getting the length of the maximum sequence in the dataset\n",
    "max_length = max([len(w) for w in X_train_sequences])\n",
    "print(max_length)"
   ]
  },
  {
   "cell_type": "code",
   "execution_count": 21,
   "id": "94bebe38",
   "metadata": {
    "execution": {
     "iopub.execute_input": "2024-01-27T13:13:15.633509Z",
     "iopub.status.busy": "2024-01-27T13:13:15.633090Z",
     "iopub.status.idle": "2024-01-27T13:13:17.666958Z",
     "shell.execute_reply": "2024-01-27T13:13:17.665794Z"
    },
    "papermill": {
     "duration": 2.049863,
     "end_time": "2024-01-27T13:13:17.669566",
     "exception": false,
     "start_time": "2024-01-27T13:13:15.619703",
     "status": "completed"
    },
    "tags": []
   },
   "outputs": [],
   "source": [
    "# Padding the sequences\n",
    "X_train_padded = pad_sequences(X_train_sequences, maxlen=100, padding='post', truncating='post')\n",
    "X_test_padded = pad_sequences(X_test_sequences, maxlen=100, padding='post', truncating='post')"
   ]
  },
  {
   "cell_type": "code",
   "execution_count": 22,
   "id": "7809467e",
   "metadata": {
    "execution": {
     "iopub.execute_input": "2024-01-27T13:13:17.696689Z",
     "iopub.status.busy": "2024-01-27T13:13:17.696264Z",
     "iopub.status.idle": "2024-01-27T13:13:19.214627Z",
     "shell.execute_reply": "2024-01-27T13:13:19.213674Z"
    },
    "papermill": {
     "duration": 1.535173,
     "end_time": "2024-01-27T13:13:19.217350",
     "exception": false,
     "start_time": "2024-01-27T13:13:17.682177",
     "status": "completed"
    },
    "tags": []
   },
   "outputs": [],
   "source": [
    "# Input layer\n",
    "input_layer = Input(shape=(100,))  # Specify max_len as the maximum sequence length\n",
    "\n",
    "# Embedding layer\n",
    "embedding_layer = Embedding(emb_len, 128)(input_layer)\n",
    "\n",
    "# Bidirectional LSTM layer replaced with Attention layer\n",
    "lstm_layer = Bidirectional(LSTM(128, return_sequences=True, dropout=0.2, recurrent_dropout=0.3))(embedding_layer)\n",
    "attention = Attention()([lstm_layer, lstm_layer])  # Attention layer\n",
    "\n",
    "# 1D Convolutional layer\n",
    "conv1d_layer = Conv1D(64, kernel_size=3, activation='relu')(attention)\n",
    "\n",
    "# GlobalMaxPooling1D layer\n",
    "global_max_pooling_layer = GlobalMaxPooling1D()(conv1d_layer)\n",
    "\n",
    "# Dense layers\n",
    "dense_layer_1 = Dense(128, activation='relu')(global_max_pooling_layer)\n",
    "output_layer = Dense(6, activation='sigmoid')(dense_layer_1)\n",
    "\n",
    "# Model creation\n",
    "model = Model(inputs=input_layer, outputs=output_layer)"
   ]
  },
  {
   "cell_type": "code",
   "execution_count": 23,
   "id": "4a0a420d",
   "metadata": {
    "execution": {
     "iopub.execute_input": "2024-01-27T13:13:19.244231Z",
     "iopub.status.busy": "2024-01-27T13:13:19.243839Z",
     "iopub.status.idle": "2024-01-27T13:13:19.278982Z",
     "shell.execute_reply": "2024-01-27T13:13:19.277791Z"
    },
    "papermill": {
     "duration": 0.060096,
     "end_time": "2024-01-27T13:13:19.290213",
     "exception": false,
     "start_time": "2024-01-27T13:13:19.230117",
     "status": "completed"
    },
    "tags": []
   },
   "outputs": [
    {
     "name": "stdout",
     "output_type": "stream",
     "text": [
      "Model: \"model\"\n",
      "__________________________________________________________________________________________________\n",
      " Layer (type)                Output Shape                 Param #   Connected to                  \n",
      "==================================================================================================\n",
      " input_1 (InputLayer)        [(None, 100)]                0         []                            \n",
      "                                                                                                  \n",
      " embedding (Embedding)       (None, 100, 128)             2683238   ['input_1[0][0]']             \n",
      "                                                          4                                       \n",
      "                                                                                                  \n",
      " bidirectional (Bidirection  (None, 100, 256)             263168    ['embedding[0][0]']           \n",
      " al)                                                                                              \n",
      "                                                                                                  \n",
      " attention (Attention)       (None, 100, 256)             0         ['bidirectional[0][0]',       \n",
      "                                                                     'bidirectional[0][0]']       \n",
      "                                                                                                  \n",
      " conv1d (Conv1D)             (None, 98, 64)               49216     ['attention[0][0]']           \n",
      "                                                                                                  \n",
      " global_max_pooling1d (Glob  (None, 64)                   0         ['conv1d[0][0]']              \n",
      " alMaxPooling1D)                                                                                  \n",
      "                                                                                                  \n",
      " dense (Dense)               (None, 128)                  8320      ['global_max_pooling1d[0][0]']\n",
      "                                                                                                  \n",
      " dense_1 (Dense)             (None, 6)                    774       ['dense[0][0]']               \n",
      "                                                                                                  \n",
      "==================================================================================================\n",
      "Total params: 27153862 (103.58 MB)\n",
      "Trainable params: 27153862 (103.58 MB)\n",
      "Non-trainable params: 0 (0.00 Byte)\n",
      "__________________________________________________________________________________________________\n"
     ]
    }
   ],
   "source": [
    "model.summary()"
   ]
  },
  {
   "cell_type": "code",
   "execution_count": 24,
   "id": "a1d513e5",
   "metadata": {
    "execution": {
     "iopub.execute_input": "2024-01-27T13:13:19.323022Z",
     "iopub.status.busy": "2024-01-27T13:13:19.322047Z",
     "iopub.status.idle": "2024-01-27T13:13:19.341704Z",
     "shell.execute_reply": "2024-01-27T13:13:19.340705Z"
    },
    "papermill": {
     "duration": 0.038557,
     "end_time": "2024-01-27T13:13:19.344245",
     "exception": false,
     "start_time": "2024-01-27T13:13:19.305688",
     "status": "completed"
    },
    "tags": []
   },
   "outputs": [],
   "source": [
    "model.compile(optimizer='adam',loss='binary_crossentropy',metrics=['accuracy'])"
   ]
  },
  {
   "cell_type": "code",
   "execution_count": 25,
   "id": "0b455a32",
   "metadata": {
    "execution": {
     "iopub.execute_input": "2024-01-27T13:13:19.436987Z",
     "iopub.status.busy": "2024-01-27T13:13:19.436564Z",
     "iopub.status.idle": "2024-01-27T13:13:19.565338Z",
     "shell.execute_reply": "2024-01-27T13:13:19.564136Z"
    },
    "papermill": {
     "duration": 0.148155,
     "end_time": "2024-01-27T13:13:19.568013",
     "exception": false,
     "start_time": "2024-01-27T13:13:19.419858",
     "status": "completed"
    },
    "tags": []
   },
   "outputs": [],
   "source": [
    "checkpoint_path = 'training/best_model.ckpt'\n",
    "checkpoint_dir = os.path.dirname(checkpoint_path)\n",
    "model_checkpoint_callback = tf.keras.callbacks.ModelCheckpoint(\n",
    "    filepath=checkpoint_path,\n",
    "    monitor='val_accuracy',\n",
    "    mode='max',\n",
    "    save_best_only=True)"
   ]
  },
  {
   "cell_type": "code",
   "execution_count": 26,
   "id": "706bb20f",
   "metadata": {
    "execution": {
     "iopub.execute_input": "2024-01-27T13:13:19.600598Z",
     "iopub.status.busy": "2024-01-27T13:13:19.599634Z",
     "iopub.status.idle": "2024-01-27T13:13:19.605134Z",
     "shell.execute_reply": "2024-01-27T13:13:19.603958Z"
    },
    "papermill": {
     "duration": 0.02398,
     "end_time": "2024-01-27T13:13:19.607356",
     "exception": false,
     "start_time": "2024-01-27T13:13:19.583376",
     "status": "completed"
    },
    "tags": []
   },
   "outputs": [],
   "source": [
    "from keras.callbacks import EarlyStopping\n",
    "early_stop = EarlyStopping(monitor='val_loss',patience=3,verbose=True)"
   ]
  },
  {
   "cell_type": "code",
   "execution_count": 27,
   "id": "94969cf3",
   "metadata": {
    "execution": {
     "iopub.execute_input": "2024-01-27T13:13:19.639562Z",
     "iopub.status.busy": "2024-01-27T13:13:19.639114Z",
     "iopub.status.idle": "2024-01-27T13:41:47.641781Z",
     "shell.execute_reply": "2024-01-27T13:41:47.640583Z"
    },
    "papermill": {
     "duration": 1708.233221,
     "end_time": "2024-01-27T13:41:47.855627",
     "exception": false,
     "start_time": "2024-01-27T13:13:19.622406",
     "status": "completed"
    },
    "tags": []
   },
   "outputs": [
    {
     "name": "stdout",
     "output_type": "stream",
     "text": [
      "Epoch 1/2\n",
      "1122/1122 [==============================] - 899s 792ms/step - loss: 0.0859 - accuracy: 0.9796 - val_loss: 0.0526 - val_accuracy: 0.9937\n",
      "Epoch 2/2\n",
      "1122/1122 [==============================] - 808s 721ms/step - loss: 0.0456 - accuracy: 0.9933 - val_loss: 0.0496 - val_accuracy: 0.9940\n"
     ]
    }
   ],
   "source": [
    "#Trainig the model\n",
    "history = model.fit(X_train_padded,y_train,batch_size=128,epochs=2,validation_split=0.1,callbacks=[model_checkpoint_callback,early_stop])"
   ]
  },
  {
   "cell_type": "code",
   "execution_count": 28,
   "id": "e14c73f0",
   "metadata": {
    "execution": {
     "iopub.execute_input": "2024-01-27T13:41:48.301566Z",
     "iopub.status.busy": "2024-01-27T13:41:48.301140Z",
     "iopub.status.idle": "2024-01-27T13:41:48.651067Z",
     "shell.execute_reply": "2024-01-27T13:41:48.649899Z"
    },
    "papermill": {
     "duration": 0.57343,
     "end_time": "2024-01-27T13:41:48.653504",
     "exception": false,
     "start_time": "2024-01-27T13:41:48.080074",
     "status": "completed"
    },
    "tags": []
   },
   "outputs": [
    {
     "data": {
      "text/plain": [
       "<tensorflow.python.checkpoint.checkpoint.CheckpointLoadStatus at 0x7d14d6d813c0>"
      ]
     },
     "execution_count": 28,
     "metadata": {},
     "output_type": "execute_result"
    }
   ],
   "source": [
    "#Load best model\n",
    "model.load_weights(checkpoint_path)"
   ]
  },
  {
   "cell_type": "code",
   "execution_count": 29,
   "id": "4ba85218",
   "metadata": {
    "execution": {
     "iopub.execute_input": "2024-01-27T13:41:49.093286Z",
     "iopub.status.busy": "2024-01-27T13:41:49.092868Z",
     "iopub.status.idle": "2024-01-27T13:46:11.167514Z",
     "shell.execute_reply": "2024-01-27T13:46:11.166211Z"
    },
    "papermill": {
     "duration": 262.294788,
     "end_time": "2024-01-27T13:46:11.169990",
     "exception": false,
     "start_time": "2024-01-27T13:41:48.875202",
     "status": "completed"
    },
    "tags": []
   },
   "outputs": [
    {
     "name": "stdout",
     "output_type": "stream",
     "text": [
      "4787/4787 [==============================] - 244s 51ms/step - loss: -3.5054 - accuracy: 0.9989\n",
      "Validation Loss: -3.5054070949554443, Validation Accuracy: 0.9989162087440491\n"
     ]
    }
   ],
   "source": [
    "## Evaluate Model\n",
    "loss, accuracy = model.evaluate(X_test_padded, y_test)\n",
    "print(f'Validation Loss: {loss}, Validation Accuracy: {accuracy}')"
   ]
  },
  {
   "cell_type": "code",
   "execution_count": 30,
   "id": "130424f1",
   "metadata": {
    "execution": {
     "iopub.execute_input": "2024-01-27T13:46:12.362924Z",
     "iopub.status.busy": "2024-01-27T13:46:12.362458Z",
     "iopub.status.idle": "2024-01-27T13:50:15.432894Z",
     "shell.execute_reply": "2024-01-27T13:50:15.431925Z"
    },
    "papermill": {
     "duration": 243.626785,
     "end_time": "2024-01-27T13:50:15.435635",
     "exception": false,
     "start_time": "2024-01-27T13:46:11.808850",
     "status": "completed"
    },
    "tags": []
   },
   "outputs": [
    {
     "name": "stdout",
     "output_type": "stream",
     "text": [
      "4787/4787 [==============================] - 238s 50ms/step\n",
      "[[9.82801080e-01 1.42222524e-01 8.53312254e-01 5.74658178e-02\n",
      "  8.42874646e-01 1.49470195e-01]\n",
      " [3.01506720e-04 1.72420391e-06 2.93618414e-05 1.42735344e-05\n",
      "  1.81870855e-05 1.04702031e-05]\n",
      " [1.96965225e-02 1.20984776e-04 1.41422672e-03 9.52412607e-04\n",
      "  2.18868582e-03 9.58185003e-04]\n",
      " ...\n",
      " [1.07691088e-03 2.51956612e-06 5.44983013e-05 2.73386158e-05\n",
      "  1.08096756e-04 3.14516619e-05]\n",
      " [2.52660806e-03 5.60447825e-06 1.18561526e-04 4.71222120e-05\n",
      "  2.76020495e-04 6.28822454e-05]\n",
      " [9.48032022e-01 7.96377435e-02 6.43577874e-01 6.35010526e-02\n",
      "  6.83331549e-01 1.39601469e-01]]\n"
     ]
    }
   ],
   "source": [
    "# Predictions\n",
    "predictions = model.predict(X_test_padded)\n",
    "print(predictions)\n",
    "\n",
    "predictions = pd.DataFrame(predictions)\n",
    "output = pd.DataFrame(data={'id': data_test['id'],'toxic': predictions[0], 'severe_toxic': predictions[1],\n",
    "                           'obscene': predictions[2], 'threat': predictions[3], 'insult': predictions[4],\n",
    "                           'identity_hate': predictions[5]})\n",
    "output.to_csv('submission.csv', index=False)"
   ]
  },
  {
   "cell_type": "code",
   "execution_count": null,
   "id": "23df9963",
   "metadata": {
    "papermill": {
     "duration": 0.8366,
     "end_time": "2024-01-27T13:50:17.118891",
     "exception": false,
     "start_time": "2024-01-27T13:50:16.282291",
     "status": "completed"
    },
    "tags": []
   },
   "outputs": [],
   "source": []
  }
 ],
 "metadata": {
  "kaggle": {
   "accelerator": "gpu",
   "dataSources": [
    {
     "databundleVersionId": 44219,
     "sourceId": 8076,
     "sourceType": "competition"
    }
   ],
   "dockerImageVersionId": 30636,
   "isGpuEnabled": true,
   "isInternetEnabled": true,
   "language": "python",
   "sourceType": "notebook"
  },
  "kernelspec": {
   "display_name": "Python 3",
   "language": "python",
   "name": "python3"
  },
  "language_info": {
   "codemirror_mode": {
    "name": "ipython",
    "version": 3
   },
   "file_extension": ".py",
   "mimetype": "text/x-python",
   "name": "python",
   "nbconvert_exporter": "python",
   "pygments_lexer": "ipython3",
   "version": "3.10.12"
  },
  "papermill": {
   "default_parameters": {},
   "duration": 2336.071329,
   "end_time": "2024-01-27T13:50:20.849098",
   "environment_variables": {},
   "exception": null,
   "input_path": "__notebook__.ipynb",
   "output_path": "__notebook__.ipynb",
   "parameters": {},
   "start_time": "2024-01-27T13:11:24.777769",
   "version": "2.4.0"
  }
 },
 "nbformat": 4,
 "nbformat_minor": 5
}
